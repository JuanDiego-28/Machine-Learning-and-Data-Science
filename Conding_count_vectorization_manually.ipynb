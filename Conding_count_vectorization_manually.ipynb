{
 "cells": [
  {
   "cell_type": "code",
   "execution_count": 2,
   "metadata": {},
   "outputs": [],
   "source": [
    "with open (\"/home/jdiego/Documentos/MACHINE_LEARNING_DATA_SCIENCE/UNZIP_FOR_NOTEBOOKS_FINAL/One.txt\") as mytext: \n",
    "    words_one = mytext.read().lower().split()\n",
    "    uni_words_one = set(words_one)\n"
   ]
  },
  {
   "cell_type": "code",
   "execution_count": 3,
   "metadata": {},
   "outputs": [],
   "source": [
    "with open (\"/home/jdiego/Documentos/MACHINE_LEARNING_DATA_SCIENCE/UNZIP_FOR_NOTEBOOKS_FINAL/Two.txt\") as mytext2: \n",
    "    words_two = mytext2.read().lower().split()\n",
    "    uni_words_two = set(words_two)\n"
   ]
  },
  {
   "cell_type": "markdown",
   "metadata": {},
   "source": [
    "# manual vectorizing "
   ]
  },
  {
   "cell_type": "code",
   "execution_count": 4,
   "metadata": {},
   "outputs": [],
   "source": [
    "# create a set with all unique words  (vocabulary)\n",
    "all_uni_words = set()\n",
    "all_uni_words.update(uni_words_one)"
   ]
  },
  {
   "cell_type": "code",
   "execution_count": 5,
   "metadata": {},
   "outputs": [],
   "source": [
    "all_uni_words.update(uni_words_two)"
   ]
  },
  {
   "cell_type": "code",
   "execution_count": 6,
   "metadata": {},
   "outputs": [],
   "source": [
    "# creating the vocabulary   \n",
    "full_vocab = dict()\n",
    "i = 0 \n",
    "\n",
    "for words in all_uni_words : \n",
    "    full_vocab[words] =  i\n",
    "    i += 1 "
   ]
  },
  {
   "cell_type": "code",
   "execution_count": 7,
   "metadata": {},
   "outputs": [
    {
     "data": {
      "text/plain": [
       "{'pets': 0,\n",
       " 'dogs': 1,\n",
       " 'surfing': 2,\n",
       " 'popular': 3,\n",
       " 'our': 4,\n",
       " 'catching': 5,\n",
       " 'a': 6,\n",
       " 'fun': 7,\n",
       " 'furry': 8,\n",
       " 'water': 9,\n",
       " 'are': 10,\n",
       " 'is': 11,\n",
       " 'sport': 12,\n",
       " 'about': 13,\n",
       " 'canine': 14,\n",
       " 'story': 15,\n",
       " 'this': 16,\n",
       " 'animals': 17,\n",
       " 'waves': 18}"
      ]
     },
     "execution_count": 7,
     "metadata": {},
     "output_type": "execute_result"
    }
   ],
   "source": [
    "full_vocab"
   ]
  },
  {
   "cell_type": "code",
   "execution_count": 13,
   "metadata": {},
   "outputs": [],
   "source": [
    "one_freq = [0]*len(full_vocab)\n",
    "two_freq = [0]*len(full_vocab)\n",
    "all_words = [\"\"]*len(full_vocab)\n"
   ]
  },
  {
   "cell_type": "code",
   "execution_count": 14,
   "metadata": {},
   "outputs": [],
   "source": [
    "with open (\"/home/jdiego/Documentos/MACHINE_LEARNING_DATA_SCIENCE/UNZIP_FOR_NOTEBOOKS_FINAL/One.txt\") as f:\n",
    "    one_text = f.read().lower().split()"
   ]
  },
  {
   "cell_type": "code",
   "execution_count": 15,
   "metadata": {},
   "outputs": [],
   "source": [
    "for words in one_text : \n",
    "    word_ind = full_vocab[words]\n",
    "    one_freq[word_ind] += 1 "
   ]
  },
  {
   "cell_type": "code",
   "execution_count": 16,
   "metadata": {},
   "outputs": [],
   "source": [
    "with open (\"/home/jdiego/Documentos/MACHINE_LEARNING_DATA_SCIENCE/UNZIP_FOR_NOTEBOOKS_FINAL/Two.txt\") as f:\n",
    "    two_text = f.read().lower().split()"
   ]
  },
  {
   "cell_type": "code",
   "execution_count": 17,
   "metadata": {},
   "outputs": [],
   "source": [
    "for words in two_text : \n",
    "    word_ind = full_vocab[words]\n",
    "    two_freq[word_ind] += 1 "
   ]
  },
  {
   "cell_type": "code",
   "execution_count": 19,
   "metadata": {},
   "outputs": [],
   "source": [
    "for words in full_vocab : \n",
    "    word_ind = full_vocab[words]\n",
    "    all_words[word_ind] = words "
   ]
  },
  {
   "cell_type": "code",
   "execution_count": 20,
   "metadata": {},
   "outputs": [
    {
     "data": {
      "text/plain": [
       "['pets',\n",
       " 'dogs',\n",
       " 'surfing',\n",
       " 'popular',\n",
       " 'our',\n",
       " 'catching',\n",
       " 'a',\n",
       " 'fun',\n",
       " 'furry',\n",
       " 'water',\n",
       " 'are',\n",
       " 'is',\n",
       " 'sport',\n",
       " 'about',\n",
       " 'canine',\n",
       " 'story',\n",
       " 'this',\n",
       " 'animals',\n",
       " 'waves']"
      ]
     },
     "execution_count": 20,
     "metadata": {},
     "output_type": "execute_result"
    }
   ],
   "source": [
    "all_words"
   ]
  },
  {
   "cell_type": "code",
   "execution_count": 21,
   "metadata": {},
   "outputs": [],
   "source": [
    "import pandas as pd "
   ]
  },
  {
   "cell_type": "code",
   "execution_count": 22,
   "metadata": {},
   "outputs": [],
   "source": [
    "df = pd.DataFrame(data=[one_freq,two_freq] , columns=all_words)"
   ]
  },
  {
   "cell_type": "code",
   "execution_count": 23,
   "metadata": {},
   "outputs": [
    {
     "data": {
      "text/html": [
       "<div>\n",
       "<style scoped>\n",
       "    .dataframe tbody tr th:only-of-type {\n",
       "        vertical-align: middle;\n",
       "    }\n",
       "\n",
       "    .dataframe tbody tr th {\n",
       "        vertical-align: top;\n",
       "    }\n",
       "\n",
       "    .dataframe thead th {\n",
       "        text-align: right;\n",
       "    }\n",
       "</style>\n",
       "<table border=\"1\" class=\"dataframe\">\n",
       "  <thead>\n",
       "    <tr style=\"text-align: right;\">\n",
       "      <th></th>\n",
       "      <th>pets</th>\n",
       "      <th>dogs</th>\n",
       "      <th>surfing</th>\n",
       "      <th>popular</th>\n",
       "      <th>our</th>\n",
       "      <th>catching</th>\n",
       "      <th>a</th>\n",
       "      <th>fun</th>\n",
       "      <th>furry</th>\n",
       "      <th>water</th>\n",
       "      <th>are</th>\n",
       "      <th>is</th>\n",
       "      <th>sport</th>\n",
       "      <th>about</th>\n",
       "      <th>canine</th>\n",
       "      <th>story</th>\n",
       "      <th>this</th>\n",
       "      <th>animals</th>\n",
       "      <th>waves</th>\n",
       "    </tr>\n",
       "  </thead>\n",
       "  <tbody>\n",
       "    <tr>\n",
       "      <th>0</th>\n",
       "      <td>1</td>\n",
       "      <td>2</td>\n",
       "      <td>0</td>\n",
       "      <td>0</td>\n",
       "      <td>1</td>\n",
       "      <td>0</td>\n",
       "      <td>1</td>\n",
       "      <td>0</td>\n",
       "      <td>1</td>\n",
       "      <td>0</td>\n",
       "      <td>1</td>\n",
       "      <td>1</td>\n",
       "      <td>0</td>\n",
       "      <td>1</td>\n",
       "      <td>1</td>\n",
       "      <td>1</td>\n",
       "      <td>1</td>\n",
       "      <td>1</td>\n",
       "      <td>0</td>\n",
       "    </tr>\n",
       "    <tr>\n",
       "      <th>1</th>\n",
       "      <td>0</td>\n",
       "      <td>0</td>\n",
       "      <td>2</td>\n",
       "      <td>1</td>\n",
       "      <td>0</td>\n",
       "      <td>1</td>\n",
       "      <td>1</td>\n",
       "      <td>1</td>\n",
       "      <td>0</td>\n",
       "      <td>1</td>\n",
       "      <td>0</td>\n",
       "      <td>3</td>\n",
       "      <td>1</td>\n",
       "      <td>1</td>\n",
       "      <td>0</td>\n",
       "      <td>1</td>\n",
       "      <td>1</td>\n",
       "      <td>0</td>\n",
       "      <td>1</td>\n",
       "    </tr>\n",
       "  </tbody>\n",
       "</table>\n",
       "</div>"
      ],
      "text/plain": [
       "   pets  dogs  surfing  popular  our  catching  a  fun  furry  water  are  is  \\\n",
       "0     1     2        0        0    1         0  1    0      1      0    1   1   \n",
       "1     0     0        2        1    0         1  1    1      0      1    0   3   \n",
       "\n",
       "   sport  about  canine  story  this  animals  waves  \n",
       "0      0      1       1      1     1        1      0  \n",
       "1      1      1       0      1     1        0      1  "
      ]
     },
     "execution_count": 23,
     "metadata": {},
     "output_type": "execute_result"
    }
   ],
   "source": [
    "df"
   ]
  },
  {
   "cell_type": "markdown",
   "metadata": {},
   "source": [
    "# using scikit learn"
   ]
  },
  {
   "cell_type": "code",
   "execution_count": 25,
   "metadata": {},
   "outputs": [],
   "source": [
    "text = [\" this is a line\", \n",
    "        \" this is another line\", \n",
    "        \" Other different line\"]"
   ]
  },
  {
   "cell_type": "code",
   "execution_count": 36,
   "metadata": {},
   "outputs": [],
   "source": [
    "from sklearn.feature_extraction.text import CountVectorizer, TfidfTransformer"
   ]
  },
  {
   "cell_type": "code",
   "execution_count": 39,
   "metadata": {},
   "outputs": [],
   "source": [
    "cv = CountVectorizer()"
   ]
  },
  {
   "cell_type": "code",
   "execution_count": 40,
   "metadata": {},
   "outputs": [],
   "source": [
    "sparse_matrix = cv.fit_transform(text)"
   ]
  },
  {
   "cell_type": "code",
   "execution_count": 41,
   "metadata": {},
   "outputs": [
    {
     "data": {
      "text/plain": [
       "matrix([[0, 0, 1, 1, 0, 1],\n",
       "        [1, 0, 1, 1, 0, 1],\n",
       "        [0, 1, 0, 1, 1, 0]])"
      ]
     },
     "execution_count": 41,
     "metadata": {},
     "output_type": "execute_result"
    }
   ],
   "source": [
    "sparse_matrix.todense()"
   ]
  },
  {
   "cell_type": "code",
   "execution_count": 42,
   "metadata": {},
   "outputs": [
    {
     "data": {
      "text/plain": [
       "{'this': 5, 'is': 2, 'line': 3, 'another': 0, 'other': 4, 'different': 1}"
      ]
     },
     "execution_count": 42,
     "metadata": {},
     "output_type": "execute_result"
    }
   ],
   "source": [
    "cv.vocabulary_"
   ]
  },
  {
   "cell_type": "code",
   "execution_count": 43,
   "metadata": {},
   "outputs": [],
   "source": [
    "tdidf = TfidfTransformer()"
   ]
  },
  {
   "cell_type": "code",
   "execution_count": 44,
   "metadata": {},
   "outputs": [
    {
     "data": {
      "text/plain": [
       "<3x6 sparse matrix of type '<class 'numpy.int64'>'\n",
       "\twith 10 stored elements in Compressed Sparse Row format>"
      ]
     },
     "execution_count": 44,
     "metadata": {},
     "output_type": "execute_result"
    }
   ],
   "source": [
    "sparse_matrix"
   ]
  },
  {
   "cell_type": "code",
   "execution_count": 45,
   "metadata": {},
   "outputs": [],
   "source": [
    "results = tdidf.fit_transform(sparse_matrix)"
   ]
  },
  {
   "cell_type": "code",
   "execution_count": 46,
   "metadata": {},
   "outputs": [
    {
     "data": {
      "text/plain": [
       "matrix([[0.        , 0.        , 0.61980538, 0.48133417, 0.        ,\n",
       "         0.61980538],\n",
       "        [0.63174505, 0.        , 0.4804584 , 0.37311881, 0.        ,\n",
       "         0.4804584 ],\n",
       "        [0.        , 0.65249088, 0.        , 0.38537163, 0.65249088,\n",
       "         0.        ]])"
      ]
     },
     "execution_count": 46,
     "metadata": {},
     "output_type": "execute_result"
    }
   ],
   "source": [
    "results.todense()"
   ]
  },
  {
   "cell_type": "code",
   "execution_count": 47,
   "metadata": {},
   "outputs": [],
   "source": [
    "# all can be done in one step \n",
    "\n",
    "from sklearn.feature_extraction.text import TfidfVectorizer"
   ]
  },
  {
   "cell_type": "code",
   "execution_count": 48,
   "metadata": {},
   "outputs": [],
   "source": [
    "tv = TfidfVectorizer()"
   ]
  },
  {
   "cell_type": "code",
   "execution_count": 49,
   "metadata": {},
   "outputs": [],
   "source": [
    "tv_results = tv.fit_transform(text)"
   ]
  },
  {
   "cell_type": "code",
   "execution_count": 51,
   "metadata": {},
   "outputs": [
    {
     "data": {
      "text/plain": [
       "matrix([[0.        , 0.        , 0.61980538, 0.48133417, 0.        ,\n",
       "         0.61980538],\n",
       "        [0.63174505, 0.        , 0.4804584 , 0.37311881, 0.        ,\n",
       "         0.4804584 ],\n",
       "        [0.        , 0.65249088, 0.        , 0.38537163, 0.65249088,\n",
       "         0.        ]])"
      ]
     },
     "execution_count": 51,
     "metadata": {},
     "output_type": "execute_result"
    }
   ],
   "source": [
    "tv_results.todense()"
   ]
  },
  {
   "cell_type": "code",
   "execution_count": null,
   "metadata": {},
   "outputs": [],
   "source": []
  }
 ],
 "metadata": {
  "kernelspec": {
   "display_name": "tesis",
   "language": "python",
   "name": "python3"
  },
  "language_info": {
   "codemirror_mode": {
    "name": "ipython",
    "version": 3
   },
   "file_extension": ".py",
   "mimetype": "text/x-python",
   "name": "python",
   "nbconvert_exporter": "python",
   "pygments_lexer": "ipython3",
   "version": "3.12.2"
  }
 },
 "nbformat": 4,
 "nbformat_minor": 2
}
